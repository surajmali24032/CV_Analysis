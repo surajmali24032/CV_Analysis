{
 "cells": [
  {
   "cell_type": "code",
   "execution_count": 1,
   "id": "72035c12",
   "metadata": {},
   "outputs": [],
   "source": [
    "import math\n",
    "from textblob import TextBlob as tb\n",
    "import nltk\n",
    "from nltk.corpus import stopwords\n",
    "from nltk.tokenize import word_tokenize"
   ]
  },
  {
   "cell_type": "code",
   "execution_count": 2,
   "id": "bb8a08be",
   "metadata": {},
   "outputs": [],
   "source": [
    "def tf(word, blob):\n",
    "    return blob.words.count(word) / len(blob.words)"
   ]
  },
  {
   "cell_type": "code",
   "execution_count": 3,
   "id": "3f94ba8e",
   "metadata": {},
   "outputs": [],
   "source": [
    "def n_containing(word, bloblist):\n",
    "    return sum(1 for blob in bloblist if word in blob.words)"
   ]
  },
  {
   "cell_type": "code",
   "execution_count": 4,
   "id": "53e9b4b8",
   "metadata": {},
   "outputs": [],
   "source": [
    "def idf(word, bloblist):\n",
    "    return math.log(len(bloblist) / (1 + n_containing(word, bloblist)))"
   ]
  },
  {
   "cell_type": "code",
   "execution_count": 5,
   "id": "4324ab51",
   "metadata": {},
   "outputs": [],
   "source": [
    "def tfidf(word, blob, bloblist):\n",
    "    return tf(word, blob) * idf(word, bloblist)"
   ]
  },
  {
   "cell_type": "code",
   "execution_count": 6,
   "id": "2e45d0c3",
   "metadata": {},
   "outputs": [],
   "source": [
    "with open('C:/Users/Pratik/Desktop/CV Analysis/CV Analysis/cv.txt', 'r') as file:\n",
    "    data = file.read().replace('\\n', ' ')\n",
    "# txtdata = pd.read_table('C:/Users/Pratik/Desktop/CV Analysis/CV Analysis/cv.txt')\n",
    "# document1 = tb(\"Python is an interpreted, object-oriented, high-level programming language with dynamic semantics. Python's simple, easy to learn syntax emphasizes readability and therefore reduces the cost of python program maintenance. Python supports modules and packages, which python encourages program modularity and code reuse.\")"
   ]
  },
  {
   "cell_type": "code",
   "execution_count": 7,
   "id": "def39b4d",
   "metadata": {},
   "outputs": [
    {
     "name": "stdout",
     "output_type": "stream",
     "text": [
      "CV    Personal Information:  Name  Pratik Sabale  Age  21  Mobile  9112118658    Address  Sabalewadi    Technical skills:  Python, Java, c    Work History:  Python Developer in heroku, sudoko in c .    Certifications:  Python trainee, web development in python, full stack java, complete c .    Projects:  analysis in python, logIn system in Python, game in java, gui java \n"
     ]
    }
   ],
   "source": [
    "document2 = tb(\"\")\n",
    "print(data)"
   ]
  },
  {
   "cell_type": "code",
   "execution_count": 8,
   "id": "a351c146",
   "metadata": {},
   "outputs": [
    {
     "name": "stdout",
     "output_type": "stream",
     "text": [
      "\"CV PERSONAL INFORMATION : NAME PRATIK SABALE AGE 21 MOBILE 9112118658 ADDRESS SABALEWADI TECHNICAL SKILLS : PYTHON , JAVA , WORK HISTORY : PYTHON DEVELOPER HEROKU , SUDOKO . CERTIFICATIONS : PYTHON TRAINEE , WEB DEVELOPMENT PYTHON , FULL STACK JAVA , COMPLETE . PROJECTS : ANALYSIS PYTHON , LOGIN SYSTEM PYTHON , GAME JAVA , GUI JAVA\"\n"
     ]
    }
   ],
   "source": [
    "lematized_data_token = word_tokenize(data)\n",
    "tokens_without_sw = [word for word in lematized_data_token if not word in stopwords.words()]\n",
    "# print(tokens_without_sw)\n",
    "filtered_sentence = (\" \").join(tokens_without_sw)\n",
    "filtered_sentence = filtered_sentence.upper()\n",
    "# print(filtered_sentence.upper())\n",
    "doc2 = tb('\"'+filtered_sentence+'\"')\n",
    "print(doc2)\n",
    "# docs2 = doc2.upper()\n"
   ]
  },
  {
   "cell_type": "code",
   "execution_count": 9,
   "id": "97a18ff6",
   "metadata": {},
   "outputs": [],
   "source": [
    "document3 = tb(\"\")"
   ]
  },
  {
   "cell_type": "code",
   "execution_count": 10,
   "id": "ed595e15",
   "metadata": {},
   "outputs": [],
   "source": [
    "bloblist = [doc2, document2, document3]"
   ]
  },
  {
   "cell_type": "code",
   "execution_count": 11,
   "id": "5bb9fb45",
   "metadata": {},
   "outputs": [
    {
     "name": "stdout",
     "output_type": "stream",
     "text": [
      "Top words in document\n",
      "\tWord: PYTHON, TF-IDF: 0.05792\n",
      "\tWord: JAVA, TF-IDF: 0.03862\n",
      "\tWord: CV, TF-IDF: 0.00965\n",
      "Top words in document\n",
      "Top words in document\n"
     ]
    }
   ],
   "source": [
    "for i, blob in enumerate(bloblist):\n",
    "    print(\"Top words in document\" .format(i + 1))\n",
    "    scores = {word: tfidf(word, blob, bloblist) for word in blob.words}\n",
    "    sorted_words = sorted(scores.items(), key = lambda x: x[1], reverse = True)\n",
    "    for word, score in sorted_words[:3]:\n",
    "        print(\"\\tWord: {}, TF-IDF: {}\" .format(word, round(score, 5)))"
   ]
  },
  {
   "cell_type": "code",
   "execution_count": null,
   "id": "2632dd15",
   "metadata": {},
   "outputs": [],
   "source": []
  },
  {
   "cell_type": "code",
   "execution_count": null,
   "id": "f8bf1aeb",
   "metadata": {},
   "outputs": [],
   "source": []
  }
 ],
 "metadata": {
  "kernelspec": {
   "display_name": "Python 3 (ipykernel)",
   "language": "python",
   "name": "python3"
  },
  "language_info": {
   "codemirror_mode": {
    "name": "ipython",
    "version": 3
   },
   "file_extension": ".py",
   "mimetype": "text/x-python",
   "name": "python",
   "nbconvert_exporter": "python",
   "pygments_lexer": "ipython3",
   "version": "3.10.0"
  }
 },
 "nbformat": 4,
 "nbformat_minor": 5
}
